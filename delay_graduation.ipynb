{
 "cells": [
  {
   "cell_type": "code",
   "execution_count": 2,
   "metadata": {},
   "outputs": [],
   "source": [
    "from pyspark.sql import SparkSession\n",
    "from pyspark import SparkContext\n",
    "from operator import add\n",
    "import pandas as pd\n",
    "import matplotlib.pyplot as plt\n",
    "from sklearn.linear_model import LinearRegression"
   ]
  },
  {
   "cell_type": "code",
   "execution_count": 3,
   "metadata": {},
   "outputs": [],
   "source": [
    "sc = SparkContext(\"local[*]\")"
   ]
  },
  {
   "cell_type": "code",
   "execution_count": 4,
   "metadata": {},
   "outputs": [],
   "source": [
    "# https://udb.moe.edu.tw/Historical\n",
    "# 3.學士班以下延修生數\n",
    "# 9.修讀輔系人次\n",
    "# 10.修讀雙主修人次\n",
    "\n",
    "# 讀檔\n",
    "raw_delay_data = sc.textFile(\"univ_delay.csv\")\n",
    "raw_minor_data = sc.textFile(\"univ_minor.csv\")\n",
    "raw_dual_data = sc.textFile(\"univ_dual.csv\")\n",
    "\n",
    "# 分割欄位\n",
    "split_delay = raw_delay_data.map(lambda data: data.split(','))\n",
    "split_minor = raw_minor_data.map(lambda data: data.split(','))\n",
    "split_dual = raw_dual_data.map(lambda data: data.split(','))"
   ]
  },
  {
   "cell_type": "code",
   "execution_count": 66,
   "metadata": {},
   "outputs": [],
   "source": [
    "# 只選取 學士班(日間) 的資料\n",
    "def select_daytime_data(line):\n",
    "    if '學士班(日間)' in line[8]:\n",
    "        try: \n",
    "            int(line[4])\n",
    "            return line\n",
    "        except:\n",
    "            pass\n",
    "\n",
    "daytime_delay = split_delay.filter(lambda line: select_daytime_data(line))\n",
    "daytime_minor = split_minor.filter(lambda line: select_daytime_data(line))\n",
    "daytime_dual = split_dual.filter(lambda line: select_daytime_data(line))"
   ]
  },
  {
   "cell_type": "code",
   "execution_count": 67,
   "metadata": {},
   "outputs": [],
   "source": [
    "# 把每年每間學校的人數做加總\n",
    "temp_delay = daytime_delay.map(lambda row: ((row[1], row[4], row[5]), int(row[11]))).reduceByKey(add)\n",
    "temp_minor = daytime_minor.map(lambda row: ((row[0], row[4], row[5]), int(row[9]))).reduceByKey(add)\n",
    "temp_dual = daytime_dual.map(lambda row: ((row[0], row[4], row[5]), int(row[9]))).reduceByKey(add)"
   ]
  },
  {
   "cell_type": "code",
   "execution_count": 39,
   "metadata": {},
   "outputs": [
    {
     "data": {
      "text/plain": [
       "[('101', 1, '國立政治大學', 5729),\n",
       " ('101', 2, '國立清華大學', 629),\n",
       " ('101', 3, '國立臺灣大學', 7548),\n",
       " ('101', 5, '國立成功大學', 71),\n",
       " ('101', 8, '國立中央大學', 148)]"
      ]
     },
     "execution_count": 39,
     "metadata": {},
     "output_type": "execute_result"
    }
   ],
   "source": [
    "# 整理成 data: (學年度, 學校ID, 學校名稱, 數量) 的格式\n",
    "total_delay = temp_delay.map(lambda row: (row[0][0], int(row[0][1]), row[0][2], row[1]))\n",
    "total_minor = temp_minor.map(lambda row: (row[0][0], int(row[0][1]), row[0][2], row[1]))\n",
    "total_dual = temp_dual.map(lambda row: (row[0][0], int(row[0][1]), row[0][2], row[1]))\n",
    "\n",
    "total_minor.take(5)"
   ]
  },
  {
   "cell_type": "code",
   "execution_count": 54,
   "metadata": {},
   "outputs": [
    {
     "data": {
      "text/plain": [
       "[Row(year='101', c_id=1, college='國立政治大學', dual=2360),\n",
       " Row(year='101', c_id=2, college='國立清華大學', dual=141),\n",
       " Row(year='101', c_id=3, college='國立臺灣大學', dual=5339),\n",
       " Row(year='101', c_id=4, college='國立臺灣師範大學', dual=676),\n",
       " Row(year='101', c_id=5, college='國立成功大學', dual=110)]"
      ]
     },
     "execution_count": 54,
     "metadata": {},
     "output_type": "execute_result"
    }
   ],
   "source": [
    "# 將 RDD 轉換成 Dataframe\n",
    "spark = SparkSession(sc)\n",
    "rdd = sc.parallelize(total_delay.collect())\n",
    "df_delay = rdd.toDF([\"year\", \"c_id\", \"college\", \"delay\"]).orderBy(\"year\", \"c_id\")\n",
    "\n",
    "rdd = sc.parallelize(total_minor.collect())\n",
    "df_minor = rdd.toDF([\"year\", \"c_id\", \"college\", \"minor\"]).orderBy(\"year\", \"c_id\")\n",
    "\n",
    "rdd = sc.parallelize(total_dual.collect())\n",
    "df_dual = rdd.toDF([\"year\", \"c_id\", \"college\", \"dual\"]).orderBy(\"year\", \"c_id\")\n",
    "\n",
    "# df_delay.take(5)\n",
    "# df_minor.take(5)\n",
    "df_dual.take(5)"
   ]
  },
  {
   "cell_type": "code",
   "execution_count": 55,
   "metadata": {},
   "outputs": [
    {
     "data": {
      "text/plain": [
       "(844, 6)"
      ]
     },
     "execution_count": 55,
     "metadata": {},
     "output_type": "execute_result"
    }
   ],
   "source": [
    "# 合併所有 Dataframe\n",
    "df_all = df_delay.join(df_minor, [\"year\", \"c_id\", \"college\"], \"full\").join(df_dual, [\"year\", \"c_id\", \"college\"], \"full\").orderBy(\"year\", \"c_id\").toPandas()\n",
    "df_all.fillna(0, inplace=True)\n",
    "\n",
    "# Dataframe 大小\n",
    "df_all.shape"
   ]
  },
  {
   "cell_type": "code",
   "execution_count": 63,
   "metadata": {},
   "outputs": [
    {
     "data": {
      "text/html": [
       "<div>\n",
       "<style scoped>\n",
       "    .dataframe tbody tr th:only-of-type {\n",
       "        vertical-align: middle;\n",
       "    }\n",
       "\n",
       "    .dataframe tbody tr th {\n",
       "        vertical-align: top;\n",
       "    }\n",
       "\n",
       "    .dataframe thead th {\n",
       "        text-align: right;\n",
       "    }\n",
       "</style>\n",
       "<table border=\"1\" class=\"dataframe\">\n",
       "  <thead>\n",
       "    <tr style=\"text-align: right;\">\n",
       "      <th></th>\n",
       "      <th>year</th>\n",
       "      <th>c_id</th>\n",
       "      <th>college</th>\n",
       "      <th>delay</th>\n",
       "      <th>minor</th>\n",
       "      <th>dual</th>\n",
       "    </tr>\n",
       "  </thead>\n",
       "  <tbody>\n",
       "    <tr>\n",
       "      <th>0</th>\n",
       "      <td>101</td>\n",
       "      <td>1</td>\n",
       "      <td>國立政治大學</td>\n",
       "      <td>661.0</td>\n",
       "      <td>5729.0</td>\n",
       "      <td>2360.0</td>\n",
       "    </tr>\n",
       "    <tr>\n",
       "      <th>1</th>\n",
       "      <td>101</td>\n",
       "      <td>2</td>\n",
       "      <td>國立清華大學</td>\n",
       "      <td>294.0</td>\n",
       "      <td>629.0</td>\n",
       "      <td>141.0</td>\n",
       "    </tr>\n",
       "    <tr>\n",
       "      <th>2</th>\n",
       "      <td>101</td>\n",
       "      <td>3</td>\n",
       "      <td>國立臺灣大學</td>\n",
       "      <td>1140.0</td>\n",
       "      <td>7548.0</td>\n",
       "      <td>5339.0</td>\n",
       "    </tr>\n",
       "    <tr>\n",
       "      <th>3</th>\n",
       "      <td>101</td>\n",
       "      <td>4</td>\n",
       "      <td>國立臺灣師範大學</td>\n",
       "      <td>436.0</td>\n",
       "      <td>1017.0</td>\n",
       "      <td>676.0</td>\n",
       "    </tr>\n",
       "    <tr>\n",
       "      <th>4</th>\n",
       "      <td>101</td>\n",
       "      <td>5</td>\n",
       "      <td>國立成功大學</td>\n",
       "      <td>557.0</td>\n",
       "      <td>71.0</td>\n",
       "      <td>110.0</td>\n",
       "    </tr>\n",
       "  </tbody>\n",
       "</table>\n",
       "</div>"
      ],
      "text/plain": [
       "  year  c_id   college   delay   minor    dual\n",
       "0  101     1    國立政治大學   661.0  5729.0  2360.0\n",
       "1  101     2    國立清華大學   294.0   629.0   141.0\n",
       "2  101     3    國立臺灣大學  1140.0  7548.0  5339.0\n",
       "3  101     4  國立臺灣師範大學   436.0  1017.0   676.0\n",
       "4  101     5    國立成功大學   557.0    71.0   110.0"
      ]
     },
     "execution_count": 63,
     "metadata": {},
     "output_type": "execute_result"
    }
   ],
   "source": [
    "# 秀出前 5 筆資料\n",
    "df_all.head(5)"
   ]
  },
  {
   "cell_type": "code",
   "execution_count": 90,
   "metadata": {},
   "outputs": [
    {
     "data": {
      "text/html": [
       "<div>\n",
       "<style scoped>\n",
       "    .dataframe tbody tr th:only-of-type {\n",
       "        vertical-align: middle;\n",
       "    }\n",
       "\n",
       "    .dataframe tbody tr th {\n",
       "        vertical-align: top;\n",
       "    }\n",
       "\n",
       "    .dataframe thead th {\n",
       "        text-align: right;\n",
       "    }\n",
       "</style>\n",
       "<table border=\"1\" class=\"dataframe\">\n",
       "  <thead>\n",
       "    <tr style=\"text-align: right;\">\n",
       "      <th></th>\n",
       "      <th>delay</th>\n",
       "      <th>minor</th>\n",
       "      <th>dual</th>\n",
       "    </tr>\n",
       "  </thead>\n",
       "  <tbody>\n",
       "    <tr>\n",
       "      <th>0</th>\n",
       "      <td>661.0</td>\n",
       "      <td>5729.0</td>\n",
       "      <td>2360.0</td>\n",
       "    </tr>\n",
       "    <tr>\n",
       "      <th>1</th>\n",
       "      <td>294.0</td>\n",
       "      <td>629.0</td>\n",
       "      <td>141.0</td>\n",
       "    </tr>\n",
       "    <tr>\n",
       "      <th>2</th>\n",
       "      <td>1140.0</td>\n",
       "      <td>7548.0</td>\n",
       "      <td>5339.0</td>\n",
       "    </tr>\n",
       "    <tr>\n",
       "      <th>3</th>\n",
       "      <td>436.0</td>\n",
       "      <td>1017.0</td>\n",
       "      <td>676.0</td>\n",
       "    </tr>\n",
       "    <tr>\n",
       "      <th>4</th>\n",
       "      <td>557.0</td>\n",
       "      <td>71.0</td>\n",
       "      <td>110.0</td>\n",
       "    </tr>\n",
       "  </tbody>\n",
       "</table>\n",
       "</div>"
      ],
      "text/plain": [
       "    delay   minor    dual\n",
       "0   661.0  5729.0  2360.0\n",
       "1   294.0   629.0   141.0\n",
       "2  1140.0  7548.0  5339.0\n",
       "3   436.0  1017.0   676.0\n",
       "4   557.0    71.0   110.0"
      ]
     },
     "execution_count": 90,
     "metadata": {},
     "output_type": "execute_result"
    }
   ],
   "source": [
    "# 擷取要預測的部份及特徵\n",
    "data = df_all[['delay','minor', 'dual']]\n",
    "data.head(5)"
   ]
  },
  {
   "cell_type": "code",
   "execution_count": 91,
   "metadata": {},
   "outputs": [
    {
     "data": {
      "image/png": "[encoded data removed]",
      "text/plain": [
       "<Figure size 1152x576 with 2 Axes>"
      ]
     },
     "metadata": {
      "needs_background": "light"
     },
     "output_type": "display_data"
    }
   ],
   "source": [
    "# 秀出資料分佈\n",
    "plt.close()\n",
    "fig, axs = plt.subplots(1, 2, sharey=True)\n",
    "data.plot(kind='scatter', x='minor', y='delay', ax=axs[0], figsize=(16, 8))\n",
    "data.plot(kind='scatter', x='dual', y='delay', ax=axs[1])\n",
    "plt.show()"
   ]
  },
  {
   "cell_type": "code",
   "execution_count": 96,
   "metadata": {},
   "outputs": [
    {
     "data": {
      "text/plain": [
       "(828, 3)"
      ]
     },
     "execution_count": 96,
     "metadata": {},
     "output_type": "execute_result"
    }
   ],
   "source": [
    "# 篩掉差距過大的個別資料\n",
    "test = data.loc[data['minor'] < 2000].loc[data['dual'] < 2000]\n",
    "test.shape"
   ]
  },
  {
   "cell_type": "code",
   "execution_count": 97,
   "metadata": {},
   "outputs": [
    {
     "data": {
      "image/png": "[encoded data removed]",
      "text/plain": [
       "<Figure size 1152x576 with 2 Axes>"
      ]
     },
     "metadata": {
      "needs_background": "light"
     },
     "output_type": "display_data"
    }
   ],
   "source": [
    "# 秀出篩選過的資料\n",
    "plt.close()\n",
    "fig, axs = plt.subplots(1, 2, sharey=True)\n",
    "test.plot(kind='scatter', x='minor', y='delay', ax=axs[0], figsize=(16, 8))\n",
    "test.plot(kind='scatter', x='dual', y='delay', ax=axs[1])\n",
    "plt.show()"
   ]
  },
  {
   "cell_type": "code",
   "execution_count": 98,
   "metadata": {},
   "outputs": [
    {
     "data": {
      "text/plain": [
       "LinearRegression(copy_X=True, fit_intercept=True, n_jobs=None,\n",
       "         normalize=False)"
      ]
     },
     "execution_count": 98,
     "metadata": {},
     "output_type": "execute_result"
    }
   ],
   "source": [
    "# 利用 LinearRegression 中的 fit() 來建立迴歸模型\n",
    "feature_cols = ['minor', 'dual']\n",
    "x = test[feature_cols]\n",
    "y = test.delay\n",
    "\n",
    "lm = LinearRegression()\n",
    "lm.fit(x, y)"
   ]
  },
  {
   "cell_type": "code",
   "execution_count": 99,
   "metadata": {},
   "outputs": [
    {
     "data": {
      "text/plain": [
       "154.4936771675039"
      ]
     },
     "execution_count": 99,
     "metadata": {},
     "output_type": "execute_result"
    }
   ],
   "source": [
    "# 常數項\n",
    "lm.intercept_"
   ]
  },
  {
   "cell_type": "code",
   "execution_count": 100,
   "metadata": {},
   "outputs": [
    {
     "data": {
      "text/plain": [
       "array([0.3396259 , 0.01761258])"
      ]
     },
     "execution_count": 100,
     "metadata": {},
     "output_type": "execute_result"
    }
   ],
   "source": [
    "# 特徵係數\n",
    "lm.coef_"
   ]
  },
  {
   "cell_type": "code",
   "execution_count": 110,
   "metadata": {},
   "outputs": [
    {
     "data": {
      "image/png": "[encoded data removed]",
      "text/plain": [
       "<Figure size 432x288 with 1 Axes>"
      ]
     },
     "metadata": {
      "needs_background": "light"
     },
     "output_type": "display_data"
    }
   ],
   "source": [
    "# 由上面的係數可以看出 delay 值受 minor 影響較大\n",
    "# 因此用 minor 來觀察 delay 的走向\n",
    "\n",
    "import numpy as np\n",
    "\n",
    "plt.close()\n",
    "\n",
    "# minor 的資料，delay 的資料\n",
    "minor = test.minor\n",
    "delay = test.delay\n",
    "\n",
    "# (m1, d1): minor 最小點與其 delay 值\n",
    "# (m2, d2): minor 最大點與其 delay 值\n",
    "m1= min(minor)\n",
    "m2= max(minor)\n",
    "d1= min(test.loc[test['minor'] == m1]['delay'])\n",
    "d2= max(test.loc[test['minor'] == m2]['delay'])\n",
    "\n",
    "# 求算通過兩點之方程式\n",
    "mrange = np.arange(0.5,2000)\n",
    "line_eqn = (d2 - d1) / (m2 - m1) * (mrange - m1) + d1\n",
    "\n",
    "# 畫出原始點\n",
    "plt.scatter(minor, delay)\n",
    "# 畫出線\n",
    "plt.plot(line_eqn, color='red')\n",
    "\n",
    "plt.show()\n"
   ]
  },
  {
   "cell_type": "code",
   "execution_count": 101,
   "metadata": {},
   "outputs": [
    {
     "data": {
      "text/html": [
       "<div>\n",
       "<style scoped>\n",
       "    .dataframe tbody tr th:only-of-type {\n",
       "        vertical-align: middle;\n",
       "    }\n",
       "\n",
       "    .dataframe tbody tr th {\n",
       "        vertical-align: top;\n",
       "    }\n",
       "\n",
       "    .dataframe thead th {\n",
       "        text-align: right;\n",
       "    }\n",
       "</style>\n",
       "<table border=\"1\" class=\"dataframe\">\n",
       "  <thead>\n",
       "    <tr style=\"text-align: right;\">\n",
       "      <th></th>\n",
       "      <th>minor</th>\n",
       "      <th>dual</th>\n",
       "    </tr>\n",
       "  </thead>\n",
       "  <tbody>\n",
       "    <tr>\n",
       "      <th>0</th>\n",
       "      <td>0.0</td>\n",
       "      <td>0.0</td>\n",
       "    </tr>\n",
       "    <tr>\n",
       "      <th>1</th>\n",
       "      <td>1747.0</td>\n",
       "      <td>1475.0</td>\n",
       "    </tr>\n",
       "  </tbody>\n",
       "</table>\n",
       "</div>"
      ],
      "text/plain": [
       "    minor    dual\n",
       "0     0.0     0.0\n",
       "1  1747.0  1475.0"
      ]
     },
     "execution_count": 101,
     "metadata": {},
     "output_type": "execute_result"
    }
   ],
   "source": [
    "# 特徵值的最大與最小\n",
    "x_new = pd.DataFrame({'minor': [test.minor.min(), test.minor.max()],'dual': [test.dual.min(), test.dual.max()]})\n",
    "x_new.head()"
   ]
  },
  {
   "cell_type": "code",
   "execution_count": 102,
   "metadata": {},
   "outputs": [
    {
     "data": {
      "text/plain": [
       "array([154.49367717, 773.79868182])"
      ]
     },
     "execution_count": 102,
     "metadata": {},
     "output_type": "execute_result"
    }
   ],
   "source": [
    "# 預估 delay 的最小值和最大值\n",
    "preds = lm.predict(x_new)\n",
    "preds"
   ]
  }
 ],
 "metadata": {
  "kernelspec": {
   "display_name": "Python 3",
   "language": "python",
   "name": "python3"
  },
  "language_info": {
   "codemirror_mode": {
    "name": "ipython",
    "version": 3
   },
   "file_extension": ".py",
   "mimetype": "text/x-python",
   "name": "python",
   "nbconvert_exporter": "python",
   "pygments_lexer": "ipython3",
   "version": "3.6.7"
  }
 },
 "nbformat": 4,
 "nbformat_minor": 2
}
